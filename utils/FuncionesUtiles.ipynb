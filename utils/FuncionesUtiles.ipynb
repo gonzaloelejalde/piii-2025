{
  "nbformat": 4,
  "nbformat_minor": 0,
  "metadata": {
    "colab": {
      "provenance": [],
      "authorship_tag": "ABX9TyPWpuQzM3yfc7WbvSXKbyd0",
      "include_colab_link": true
    },
    "kernelspec": {
      "name": "python3",
      "display_name": "Python 3"
    },
    "language_info": {
      "name": "python"
    }
  },
  "cells": [
    {
      "cell_type": "markdown",
      "metadata": {
        "id": "view-in-github",
        "colab_type": "text"
      },
      "source": [
        "<a href=\"https://colab.research.google.com/github/gonzaloelejalde/piii-2025/blob/main/utils/FuncionesUtiles.ipynb\" target=\"_parent\"><img src=\"https://colab.research.google.com/assets/colab-badge.svg\" alt=\"Open In Colab\"/></a>"
      ]
    },
    {
      "cell_type": "markdown",
      "source": [
        "Subir archivos desde mi computadora"
      ],
      "metadata": {
        "id": "rvK6ssqI1ttS"
      }
    },
    {
      "cell_type": "code",
      "execution_count": null,
      "metadata": {
        "id": "4XTzkiAvxWE1"
      },
      "outputs": [],
      "source": [
        "from google.colab import files\n",
        "uploaded = files.upload()"
      ]
    },
    {
      "cell_type": "markdown",
      "source": [
        "Grabar audios con el microfono de google colab y pasarlo a .wav"
      ],
      "metadata": {
        "id": "KiWzgSQB16mP"
      }
    },
    {
      "cell_type": "code",
      "source": [
        "from IPython.display import display, Javascript\n",
        "from google.colab import output\n",
        "import base64\n",
        "\n",
        "# Código JavaScript para grabar en WebM (formato por defecto del navegador)\n",
        "RECORD = \"\"\"\n",
        "async function recordAudio() {\n",
        "  const stream = await navigator.mediaDevices.getUserMedia({ audio: true });\n",
        "  const mediaRecorder = new MediaRecorder(stream);\n",
        "  let audioChunks = [];\n",
        "\n",
        "  mediaRecorder.ondataavailable = event => {\n",
        "    audioChunks.push(event.data);\n",
        "  };\n",
        "\n",
        "  mediaRecorder.start();\n",
        "\n",
        "  // Tiempo de grabación (en ms) → 5000 = 5 segundos\n",
        "  await new Promise(resolve => setTimeout(resolve, 5000));\n",
        "\n",
        "  mediaRecorder.stop();\n",
        "\n",
        "  await new Promise(resolve => {\n",
        "    mediaRecorder.onstop = () => {\n",
        "      const blob = new Blob(audioChunks, { type: 'audio/webm' });\n",
        "      const reader = new FileReader();\n",
        "      reader.readAsDataURL(blob);\n",
        "      reader.onloadend = () => {\n",
        "        const base64data = reader.result.split(',')[1];\n",
        "        google.colab.kernel.invokeFunction('notebook.saveAudio', [base64data], {});\n",
        "        resolve();\n",
        "      };\n",
        "    };\n",
        "  });\n",
        "}\n",
        "recordAudio();\n",
        "\"\"\"\n",
        "\n",
        "# Función para guardar el audio como WebM\n",
        "def save_audio(b64_audio):\n",
        "    audio_bytes = base64.b64decode(b64_audio)\n",
        "    with open(\"grabacion_440Hz.webm\", \"wb\") as f:\n",
        "        f.write(audio_bytes)\n",
        "    print(\"🎤 Audio guardado como grabacion_440Hz.webm\")\n",
        "\n",
        "output.register_callback('notebook.saveAudio', save_audio)\n",
        "\n",
        "display(Javascript(RECORD))"
      ],
      "metadata": {
        "id": "mZKTCQnc16Mu"
      },
      "execution_count": null,
      "outputs": []
    },
    {
      "cell_type": "code",
      "source": [
        "from pydub import AudioSegment\n",
        "\n",
        "# Convertir WebM a WAV\n",
        "sound = AudioSegment.from_file(\"grabacion_440Hz.webm\", format=\"webm\")\n",
        "sound.export(\"grabacion_440Hz.wav\", format=\"wav\")\n",
        "\n",
        "print(\"✅ Conversión lista: grabacion_440Hz.wav\")"
      ],
      "metadata": {
        "id": "y4D1JQml2ADt"
      },
      "execution_count": null,
      "outputs": []
    },
    {
      "cell_type": "code",
      "source": [
        "import IPython.display as ipd\n",
        "ipd.Audio(\"grabacion_440Hz.wav\")"
      ],
      "metadata": {
        "id": "ZiXtUzjD2Dk3"
      },
      "execution_count": null,
      "outputs": []
    },
    {
      "cell_type": "markdown",
      "source": [
        "(Lo que utilizo en otro código para importarlo)"
      ],
      "metadata": {
        "id": "40GX7wfi2JB6"
      }
    },
    {
      "cell_type": "code",
      "source": [
        "import matplotlib.pyplot as plt\n",
        "import numpy as np\n",
        "import scipy.io.wavfile as wav\n",
        "\n",
        "fs, data = wav.read(\"grabacion_440Hz.wav\")"
      ],
      "metadata": {
        "id": "BBjvy_5b2IPp"
      },
      "execution_count": null,
      "outputs": []
    }
  ]
}